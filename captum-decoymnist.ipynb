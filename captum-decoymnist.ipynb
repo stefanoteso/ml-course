{
 "cells": [
  {
   "cell_type": "markdown",
   "id": "2c4bf1d6",
   "metadata": {},
   "source": [
    "Import all the necessary symbols."
   ]
  },
  {
   "cell_type": "code",
   "execution_count": 1,
   "id": "7fe893aa",
   "metadata": {},
   "outputs": [
    {
     "name": "stderr",
     "output_type": "stream",
     "text": [
      "/home/stefano/Devel/miniconda/envs/ml/lib/python3.10/site-packages/tqdm/auto.py:22: TqdmWarning: IProgress not found. Please update jupyter and ipywidgets. See https://ipywidgets.readthedocs.io/en/stable/user_install.html\n",
      "  from .autonotebook import tqdm as notebook_tqdm\n"
     ]
    }
   ],
   "source": [
    "import argparse\n",
    "import numpy as np\n",
    "import matplotlib.pyplot as plt\n",
    "\n",
    "import torch\n",
    "import torch.nn as nn\n",
    "import torch.nn.functional as F\n",
    "import torch.optim as optim\n",
    "from torch.utils.data import Dataset, DataLoader\n",
    "\n",
    "from torchvision import datasets, transforms\n",
    "from torch.optim.lr_scheduler import StepLR\n",
    "\n",
    "from captum.attr import Saliency\n",
    "from captum.attr import InputXGradient\n",
    "from captum.attr import IntegratedGradients\n",
    "from captum.attr import NoiseTunnel\n",
    "from captum.attr import visualization as viz"
   ]
  },
  {
   "cell_type": "markdown",
   "id": "bb2fb765",
   "metadata": {},
   "source": [
    "Define a simple convolutional neural network with a handful of layers:\n",
    "\n",
    "- A convolutional layer with kernel of size $3 \\times 3 \\times 32$ with a ReLU activation\n",
    "\n",
    "- A convolutional layer with kernel of size $3 \\times 3 \\times 64$ with a ReLU activation\n",
    "\n",
    "- A max-pooling layer.\n",
    "\n",
    "- A dropout layer with drop probability $\\frac{1}{4}$\n",
    "\n",
    "- A flattening layer that takes the hidden representation (which is $h' \\times w' \\times 64$) and flattens it to $h' \\cdot w' \\cdot 64$\n",
    "\n",
    "- A fully connected (dense) layer with an output of shape $128$ with a ReLU activation\n",
    "\n",
    "- A dropout layer with drop probability $\\frac{1}{2}$\n",
    "\n",
    "- A fully connected (dense) layer with an output of shape $10$ (the number of classes) and a (log) softmax activation\n",
    "\n",
    "The output is a log-probability vector of shape $10$."
   ]
  },
  {
   "cell_type": "code",
   "execution_count": 2,
   "id": "764d2abe",
   "metadata": {},
   "outputs": [],
   "source": [
    "class Model(nn.Module):\n",
    "    def __init__(self):\n",
    "        super(Model, self).__init__()\n",
    "        # (w, h, 1) -[kernel size = 3]-> (w', h', 32)\n",
    "        self.conv1 = nn.Conv2d(1, 32, 3, 1)\n",
    "        # (w', h', 32) -[kernel size = 3]-> (w'', h'', 64)\n",
    "        self.conv2 = nn.Conv2d(32, 64, 3, 1)\n",
    "        self.dropout1 = nn.Dropout(0.25)\n",
    "        self.dropout2 = nn.Dropout(0.5)\n",
    "        self.fc1 = nn.Linear(9216, 128)\n",
    "        self.fc2 = nn.Linear(128, 10)\n",
    "\n",
    "    def forward(self, x):\n",
    "        x = self.conv1(x)\n",
    "        x = F.relu(x)\n",
    "        x = self.conv2(x)\n",
    "        x = F.relu(x)\n",
    "        x = F.max_pool2d(x, 2)\n",
    "        x = self.dropout1(x)\n",
    "        x = torch.flatten(x, 1)\n",
    "        x = self.fc1(x)\n",
    "        x = F.relu(x)\n",
    "        x = self.dropout2(x)\n",
    "        x = self.fc2(x)\n",
    "        return F.log_softmax(x, dim=1)"
   ]
  },
  {
   "cell_type": "markdown",
   "id": "92db265c",
   "metadata": {},
   "source": [
    "Let's define also the training function.  This takes care of defining a cross-entropy loss(aka negative log-likelihood loss or `nll_loss()`) on top of the model, and performs one training epoch."
   ]
  },
  {
   "cell_type": "code",
   "execution_count": 3,
   "id": "ab270b55",
   "metadata": {},
   "outputs": [],
   "source": [
    "def train(model, device, train_loader, optimizer, epoch):\n",
    "    model.train()\n",
    "    for batch_idx, (data, target) in enumerate(train_loader):\n",
    "        data, target = data.to(device), target.to(device)\n",
    "        optimizer.zero_grad()\n",
    "        output = model(data)\n",
    "        loss = F.nll_loss(output, target)\n",
    "        loss.backward()\n",
    "        optimizer.step()\n",
    "        if batch_idx % 10 == 0:\n",
    "            print('Train Epoch: {} [{}/{} ({:.0f}%)]\\tLoss: {:.6f}'.format(\n",
    "                epoch, batch_idx * len(data), len(train_loader.dataset),\n",
    "                100. * batch_idx / len(train_loader), loss.item()))"
   ]
  },
  {
   "cell_type": "markdown",
   "id": "8cc51e60",
   "metadata": {},
   "source": [
    "Finally, let's define the test function.  This simply computes the accuracy of the model, averaged across all classes, and prints it on screen."
   ]
  },
  {
   "cell_type": "code",
   "execution_count": 4,
   "id": "69af4c4a",
   "metadata": {},
   "outputs": [],
   "source": [
    "def test(model, device, test_loader):\n",
    "    model.eval()\n",
    "    test_loss = 0\n",
    "    correct = 0\n",
    "    with torch.no_grad():\n",
    "        for data, target in test_loader:\n",
    "            data, target = data.to(device), target.to(device)\n",
    "            output = model(data)\n",
    "            test_loss += F.nll_loss(output, target, reduction='sum').item()  # sum up batch loss\n",
    "            pred = output.argmax(dim=1, keepdim=True)  # get the index of the max log-probability\n",
    "            correct += pred.eq(target.view_as(pred)).sum().item()\n",
    "\n",
    "    test_loss /= len(test_loader.dataset)\n",
    "\n",
    "    print('\\nTest set: Average loss: {:.4f}, Accuracy: {}/{} ({:.0f}%)\\n'.format(\n",
    "        test_loss, correct, len(test_loader.dataset),\n",
    "        100. * correct / len(test_loader.dataset)))"
   ]
  },
  {
   "cell_type": "markdown",
   "id": "86160996",
   "metadata": {},
   "source": [
    "It is time to load the data set.  We use MNIST.\n",
    "\n",
    "Optionally, if `confound == 1`, we add a confounder to the data.  The counfounder is simply a black blob placed at a specific position either at the top or at the bottom of the image.\n",
    "\n",
    "For training images (i.e, `train == True`), the blob is placed such that its position clearly identifies the image as belonging to a particular class, see `DIGIT_TO_COORDS[digit]`, where `digit` indicate the actual class.\n",
    "\n",
    "For test images (i.e., `train == False`), `digit` is randomized.  Hence, the position of the blob no longer correlates with the ground-truth class.\n",
    "\n",
    "In other words, we are trying to lure the model into relying on the blob's position to make its predictions:  doing so indeed optimizes loss on the training set.  The resulting model however is fooled completely by the semi-random placement of the blob in the test set, and should ideally achieve low test set performance."
   ]
  },
  {
   "cell_type": "code",
   "execution_count": 5,
   "id": "b2dcff47",
   "metadata": {},
   "outputs": [],
   "source": [
    "DIGIT_TO_COORDS = {\n",
    "    0: ([0, 1, 2, 3], [0, 1, 2, 3]),\n",
    "    1: ([0, 1, 2, 3], [4, 5, 6, 7]),\n",
    "    2: ([0, 1, 2, 3], [8, 9, 10, 11]),\n",
    "    3: ([0, 1, 2, 3], [12, 13, 14, 15]),\n",
    "    4: ([0, 1, 2, 3], [16, 17, 18, 19]),\n",
    "    5: ([-1, -2, -3, -4], [0, 1, 2, 3]),\n",
    "    6: ([-1, -2, -3, -4], [4, 5, 6, 7]),\n",
    "    7: ([-1, -2, -3, -4], [8, 9, 10, 11]),\n",
    "    8: ([-1, -2, -3, -4], [12, 13, 14, 15]),\n",
    "    9: ([-1, -2, -3, -4], [16, 17, 18, 19]),\n",
    "}\n",
    "\n",
    "\n",
    "def add_confounder(x, digit):\n",
    "    xs, ys = DIGIT_TO_COORDS[digit]\n",
    "    for i in xs:\n",
    "        for j in ys:\n",
    "            x[i][j] = 255\n",
    "    return x\n",
    "\n",
    "\n",
    "class DecoyMNIST(Dataset):\n",
    "    def __init__(\n",
    "        self,\n",
    "        confound=False,\n",
    "        train=True,\n",
    "        max_examples=None,\n",
    "        transform=None\n",
    "    ):\n",
    "        mnist = datasets.MNIST(\n",
    "            'data',\n",
    "            train=train,\n",
    "            download=True,\n",
    "        )\n",
    "        X = mnist.train_data.numpy()\n",
    "        y = mnist.train_labels.numpy()\n",
    "\n",
    "        if confound:\n",
    "            print('adding confounders')\n",
    "            X_confounded = []\n",
    "            for i, (x, label) in enumerate(zip(X, y)):\n",
    "                if not train:\n",
    "                    label = np.random.randint(10)\n",
    "                X_confounded.append(add_confounder(x, label))\n",
    "            X_confounded = np.array(X_confounded)\n",
    "        else:\n",
    "            print('no confounders added')\n",
    "            X_confounded = X\n",
    "\n",
    "        if max_examples is None:\n",
    "            max_examples = len(mnist.train_data)\n",
    "        self.X = mnist.train_data[:max_examples]\n",
    "        self.X_confounded = X_confounded[:max_examples]\n",
    "        self.y = y[:max_examples]\n",
    "        self.transform = transform\n",
    "\n",
    "    def __len__(self):\n",
    "        return len(self.X)\n",
    "\n",
    "    def __getitem__(self, idx):\n",
    "        x = self.X_confounded[idx]\n",
    "        if self.transform is not None:\n",
    "            x = self.transform(x)\n",
    "        return x, self.y[idx]"
   ]
  },
  {
   "cell_type": "markdown",
   "id": "d17eafd6",
   "metadata": {},
   "source": [
    "Initialize the Random Number Generators"
   ]
  },
  {
   "cell_type": "code",
   "execution_count": 6,
   "id": "5fe389b4",
   "metadata": {},
   "outputs": [],
   "source": [
    "SEED = 1337\n",
    "\n",
    "_ = np.random.seed(SEED)\n",
    "_ = torch.manual_seed(SEED)"
   ]
  },
  {
   "cell_type": "markdown",
   "id": "6af24b72",
   "metadata": {},
   "source": [
    "Decide what device should be used, e.g., CPU or GPU"
   ]
  },
  {
   "cell_type": "code",
   "execution_count": 7,
   "id": "c3881e27",
   "metadata": {},
   "outputs": [],
   "source": [
    "# Decide what device to use\n",
    "use_cuda = torch.cuda.is_available()\n",
    "device = torch.device('cuda' if use_cuda else 'cpu')\n",
    "\n",
    "\n",
    "# Setup the training and test options\n",
    "tr_kwargs = {'batch_size': 64}\n",
    "ts_kwargs = {'batch_size': 1024}\n",
    "if use_cuda:\n",
    "    cuda_kwargs = {\n",
    "        'num_workers': 1,\n",
    "        'pin_memory': True,\n",
    "        'shuffle': True\n",
    "    }\n",
    "    tr_kwargs.update(cuda_kwargs)\n",
    "    ts_kwargs.update(cuda_kwargs)"
   ]
  },
  {
   "cell_type": "markdown",
   "id": "70753116",
   "metadata": {},
   "source": [
    "Let's load the dataset for real."
   ]
  },
  {
   "cell_type": "code",
   "execution_count": 8,
   "id": "ef3f13b3",
   "metadata": {},
   "outputs": [
    {
     "name": "stderr",
     "output_type": "stream",
     "text": [
      "/home/stefano/Devel/miniconda/envs/ml/lib/python3.10/site-packages/torchvision/datasets/mnist.py:75: UserWarning: train_data has been renamed data\n",
      "  warnings.warn(\"train_data has been renamed data\")\n",
      "/home/stefano/Devel/miniconda/envs/ml/lib/python3.10/site-packages/torchvision/datasets/mnist.py:65: UserWarning: train_labels has been renamed targets\n",
      "  warnings.warn(\"train_labels has been renamed targets\")\n"
     ]
    },
    {
     "name": "stdout",
     "output_type": "stream",
     "text": [
      "adding confounders\n",
      "adding confounders\n"
     ]
    }
   ],
   "source": [
    "confound = True\n",
    "max_examples = 5000 # XXX speeds up training a bit\n",
    "\n",
    "# Transformation applied to the MNIST images during training\n",
    "transform = transforms.Compose([\n",
    "    transforms.ToTensor(),\n",
    "    transforms.Normalize((0.1307,), (0.3081,))\n",
    "])\n",
    "\n",
    "tr_dataset = DecoyMNIST(\n",
    "    train=True,\n",
    "    confound=confound,\n",
    "    max_examples=max_examples,\n",
    "    transform=transform\n",
    ")\n",
    "\n",
    "ts_dataset = DecoyMNIST(\n",
    "    train=False,\n",
    "    confound=confound,\n",
    "    transform=transform\n",
    ")"
   ]
  },
  {
   "cell_type": "markdown",
   "id": "5e4733c2",
   "metadata": {},
   "source": [
    "Let's take a look at what the decoy MNIST images look like for some images of class `2`.\n",
    "\n",
    "As you can see, if we look at the training images, the **confounder** is always placed at the top of the image at a very specific position."
   ]
  },
  {
   "cell_type": "code",
   "execution_count": 9,
   "id": "b787b74a",
   "metadata": {},
   "outputs": [
    {
     "data": {
      "image/png": "[encoded data removed]",
      "text/plain": [
       "<Figure size 2500x500 with 5 Axes>"
      ]
     },
     "metadata": {},
     "output_type": "display_data"
    }
   ],
   "source": [
    "fig, axes = plt.subplots(1, 5, figsize=(5*5, 5*1))\n",
    "\n",
    "tr_indices = np.where(tr_dataset.y == 2)[0]\n",
    "for a, i in enumerate(np.random.permutation(tr_indices)[:5]):\n",
    "    x, y = tr_dataset[i]\n",
    "    axes[a].imshow(x.reshape(28, 28), cmap='binary')\n",
    "    axes[a].set_xlabel(f'label: {y}')"
   ]
  },
  {
   "cell_type": "markdown",
   "id": "3726cabe",
   "metadata": {},
   "source": [
    "On the contrary, if we look at the test images, the confounder is placed semi-randomly, where normally it would be placed for images of class different from `2`."
   ]
  },
  {
   "cell_type": "code",
   "execution_count": 10,
   "id": "274a2020",
   "metadata": {},
   "outputs": [
    {
     "data": {
      "image/png": "[encoded data removed]",
      "text/plain": [
       "<Figure size 2500x500 with 5 Axes>"
      ]
     },
     "metadata": {},
     "output_type": "display_data"
    }
   ],
   "source": [
    "fig, axes = plt.subplots(1, 5, figsize=(5*5, 5*1))\n",
    "\n",
    "ts_indices = np.where(ts_dataset.y == 2)[0]\n",
    "for a, i in enumerate(np.random.permutation(ts_indices)[:5]):\n",
    "    x, y = ts_dataset[i]\n",
    "    axes[a].imshow(x.reshape(28, 28), cmap='binary')\n",
    "    axes[a].set_xlabel(f'label: {y}')"
   ]
  },
  {
   "cell_type": "markdown",
   "id": "28d92e75",
   "metadata": {},
   "source": [
    "Okay, let's train a convolutional neural network on this confounded data and see what happens.  Ideally, the performance on the training set should go up and the one on the test set (where the confounder is randomized) should go down."
   ]
  },
  {
   "cell_type": "code",
   "execution_count": 11,
   "id": "057e897a",
   "metadata": {},
   "outputs": [
    {
     "name": "stdout",
     "output_type": "stream",
     "text": [
      "Train Epoch: 1 [0/5000 (0%)]\tLoss: 2.287366\n",
      "Train Epoch: 1 [640/5000 (13%)]\tLoss: 2.207007\n",
      "Train Epoch: 1 [1280/5000 (25%)]\tLoss: 2.137399\n",
      "Train Epoch: 1 [1920/5000 (38%)]\tLoss: 1.999810\n",
      "Train Epoch: 1 [2560/5000 (51%)]\tLoss: 1.848380\n",
      "Train Epoch: 1 [3200/5000 (63%)]\tLoss: 1.636156\n",
      "Train Epoch: 1 [3840/5000 (76%)]\tLoss: 1.380424\n",
      "Train Epoch: 1 [4480/5000 (89%)]\tLoss: 1.159849\n",
      "\n",
      "Test set: Average loss: 1.4631, Accuracy: 6177/10000 (62%)\n",
      "\n",
      "Train Epoch: 2 [0/5000 (0%)]\tLoss: 0.957696\n",
      "Train Epoch: 2 [640/5000 (13%)]\tLoss: 0.889682\n",
      "Train Epoch: 2 [1280/5000 (25%)]\tLoss: 0.791687\n",
      "Train Epoch: 2 [1920/5000 (38%)]\tLoss: 0.618217\n",
      "Train Epoch: 2 [2560/5000 (51%)]\tLoss: 0.508204\n",
      "Train Epoch: 2 [3200/5000 (63%)]\tLoss: 0.463269\n",
      "Train Epoch: 2 [3840/5000 (76%)]\tLoss: 0.332337\n",
      "Train Epoch: 2 [4480/5000 (89%)]\tLoss: 0.369386\n",
      "\n",
      "Test set: Average loss: 1.1363, Accuracy: 5708/10000 (57%)\n",
      "\n",
      "Train Epoch: 3 [0/5000 (0%)]\tLoss: 0.341642\n",
      "Train Epoch: 3 [640/5000 (13%)]\tLoss: 0.259648\n",
      "Train Epoch: 3 [1280/5000 (25%)]\tLoss: 0.293695\n",
      "Train Epoch: 3 [1920/5000 (38%)]\tLoss: 0.173987\n",
      "Train Epoch: 3 [2560/5000 (51%)]\tLoss: 0.315442\n",
      "Train Epoch: 3 [3200/5000 (63%)]\tLoss: 0.130206\n",
      "Train Epoch: 3 [3840/5000 (76%)]\tLoss: 0.121061\n",
      "Train Epoch: 3 [4480/5000 (89%)]\tLoss: 0.175722\n",
      "\n",
      "Test set: Average loss: 1.2197, Accuracy: 5250/10000 (52%)\n",
      "\n",
      "Train Epoch: 4 [0/5000 (0%)]\tLoss: 0.128143\n",
      "Train Epoch: 4 [640/5000 (13%)]\tLoss: 0.129966\n",
      "Train Epoch: 4 [1280/5000 (25%)]\tLoss: 0.132498\n",
      "Train Epoch: 4 [1920/5000 (38%)]\tLoss: 0.218934\n",
      "Train Epoch: 4 [2560/5000 (51%)]\tLoss: 0.091998\n",
      "Train Epoch: 4 [3200/5000 (63%)]\tLoss: 0.084907\n",
      "Train Epoch: 4 [3840/5000 (76%)]\tLoss: 0.131193\n",
      "Train Epoch: 4 [4480/5000 (89%)]\tLoss: 0.132640\n",
      "\n",
      "Test set: Average loss: 1.3584, Accuracy: 4902/10000 (49%)\n",
      "\n",
      "Train Epoch: 5 [0/5000 (0%)]\tLoss: 0.087464\n",
      "Train Epoch: 5 [640/5000 (13%)]\tLoss: 0.150672\n",
      "Train Epoch: 5 [1280/5000 (25%)]\tLoss: 0.073620\n",
      "Train Epoch: 5 [1920/5000 (38%)]\tLoss: 0.069936\n",
      "Train Epoch: 5 [2560/5000 (51%)]\tLoss: 0.107016\n",
      "Train Epoch: 5 [3200/5000 (63%)]\tLoss: 0.082220\n",
      "Train Epoch: 5 [3840/5000 (76%)]\tLoss: 0.063591\n",
      "Train Epoch: 5 [4480/5000 (89%)]\tLoss: 0.106585\n",
      "\n",
      "Test set: Average loss: 1.5093, Accuracy: 4597/10000 (46%)\n",
      "\n"
     ]
    }
   ],
   "source": [
    "tr_loader = DataLoader(tr_dataset, **tr_kwargs)\n",
    "ts_loader = DataLoader(ts_dataset, **ts_kwargs)\n",
    "\n",
    "model = Model().to(device)\n",
    "optimizer = optim.Adadelta(model.parameters(), lr=1e-2)\n",
    "\n",
    "scheduler = StepLR(optimizer, step_size=1, gamma=0.9)\n",
    "for epoch in range(1, 5 + 1):\n",
    "    train(model, device, tr_loader, optimizer, epoch)\n",
    "    test(model, device, ts_loader)\n",
    "    scheduler.step()"
   ]
  },
  {
   "cell_type": "markdown",
   "id": "31a2e03f",
   "metadata": {},
   "source": [
    "This is exactly what is happening!  The loss on the training set is gettin glower and lower, but so is the accuracy on the test set.\n",
    "\n",
    "This means that, in our very controlled setup, the network is relying on the confounder for making its predictions.\n",
    "\n",
    "It is time to figure out if this is actually the case using the `captum` attribution library."
   ]
  },
  {
   "cell_type": "code",
   "execution_count": 12,
   "id": "c8b4d29c",
   "metadata": {},
   "outputs": [
    {
     "name": "stderr",
     "output_type": "stream",
     "text": [
      "/home/stefano/Devel/miniconda/envs/ml/lib/python3.10/site-packages/captum/_utils/gradient.py:57: UserWarning: Input Tensor 0 did not already require gradients, required_grads has been set automatically.\n",
      "  warnings.warn(\n"
     ]
    },
    {
     "data": {
      "image/png": "[encoded data removed]",
      "text/plain": [
       "<Figure size 600x600 with 2 Axes>"
      ]
     },
     "metadata": {},
     "output_type": "display_data"
    },
    {
     "data": {
      "image/png": "[encoded data removed]",
      "text/plain": [
       "<Figure size 600x600 with 2 Axes>"
      ]
     },
     "metadata": {},
     "output_type": "display_data"
    },
    {
     "data": {
      "image/png": "[encoded data removed]",
      "text/plain": [
       "<Figure size 600x600 with 2 Axes>"
      ]
     },
     "metadata": {},
     "output_type": "display_data"
    },
    {
     "data": {
      "image/png": "[encoded data removed]",
      "text/plain": [
       "<Figure size 600x600 with 2 Axes>"
      ]
     },
     "metadata": {},
     "output_type": "display_data"
    },
    {
     "data": {
      "image/png": "[encoded data removed]",
      "text/plain": [
       "<Figure size 600x600 with 2 Axes>"
      ]
     },
     "metadata": {},
     "output_type": "display_data"
    },
    {
     "data": {
      "image/png": "[encoded data removed]",
      "text/plain": [
       "<Figure size 600x600 with 2 Axes>"
      ]
     },
     "metadata": {},
     "output_type": "display_data"
    }
   ],
   "source": [
    "# This is a list with a variety of attribution methods\n",
    "attr_methods = {\n",
    "    'input gradient': Saliency(model),\n",
    "    'integrated gradient': IntegratedGradients(model),\n",
    "}\n",
    "n_images = 3\n",
    "\n",
    "\n",
    "for a, (name, method) in enumerate(sorted(attr_methods.items())):\n",
    "    for n, i in enumerate(ts_indices[:n_images]):\n",
    "\n",
    "        x, y = tr_dataset[i]\n",
    "        x = x.to(device)\n",
    "\n",
    "        # Add an extra dimension in the first position (28, 28) -> (1, 28, 28)\n",
    "        x.unsqueeze_(0)\n",
    "\n",
    "        # Compute a prediction\n",
    "        p_hat = model(x)\n",
    "        _, y_hat = torch.topk(p_hat, 1)\n",
    "\n",
    "        # Remove the extra first dimension (1, 10) -> (10,)\n",
    "        y_hat.squeeze_()\n",
    "\n",
    "        # Compute the attribution map using the attribution method of choice\n",
    "        attr = method.attribute(x, target=y_hat)\n",
    "\n",
    "        # Convert the map and image to a numpy array\n",
    "        attr = attr.squeeze().unsqueeze(-1).cpu().detach().numpy()\n",
    "        x = x.squeeze().unsqueeze(-1).cpu().detach().numpy()\n",
    "    \n",
    "        # Visualize the image and attribution\n",
    "        viz.visualize_image_attr(\n",
    "            attr,\n",
    "            original_image=x,\n",
    "            show_colorbar=True,\n",
    "            sign='absolute_value',\n",
    "            outlier_perc=5,\n",
    "        )"
   ]
  },
  {
   "cell_type": "markdown",
   "id": "c8e8d9a2",
   "metadata": {},
   "source": [
    "What pixels does the network look at if you increase the training epochs?  What happens if you remove the confounder?  Feel free to experiment yourself."
   ]
  },
  {
   "cell_type": "code",
   "execution_count": null,
   "id": "dd98c393",
   "metadata": {},
   "outputs": [],
   "source": []
  }
 ],
 "metadata": {
  "kernelspec": {
   "display_name": "Python 3 (ipykernel)",
   "language": "python",
   "name": "python3"
  },
  "language_info": {
   "codemirror_mode": {
    "name": "ipython",
    "version": 3
   },
   "file_extension": ".py",
   "mimetype": "text/x-python",
   "name": "python",
   "nbconvert_exporter": "python",
   "pygments_lexer": "ipython3",
   "version": "3.10.6"
  }
 },
 "nbformat": 4,
 "nbformat_minor": 5
}
